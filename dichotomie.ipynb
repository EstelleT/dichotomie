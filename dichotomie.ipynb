{
 "cells": [
  {
   "cell_type": "markdown",
   "metadata": {},
   "source": [
    "# Recherche dichotomique\n",
    "\n",
    "## Introduction\n",
    "\n",
    "Votre prénom est-il présent dans cette liste : https://s3-eu-west-1.amazonaws.com/static.oc-static.com/prod/courses/files/decouvrir-la-programmation-creative/liste_prenoms1.pdf\n",
    "\n",
    "Et dans celle là ? : https://s3-eu-west-1.amazonaws.com/static.oc-static.com/prod/courses/files/decouvrir-la-programmation-creative/liste_prenoms2.pdf\n",
    "\n",
    "Nous allons nous interresser à une methode de recherche d'un élèment dans une liste.\n",
    "\n",
    "Premier constat\n",
    "- Si la liste est triée c'est plus rapide\n",
    "\n",
    "Deuxième constat :\n",
    "- Vous avez sans doute utilisé une méthode proche de la méthode par dichotomie, vous n'avez pas parcouru toute la deuxième liste des yeux !\n",
    "\n",
    "\n",
    "## 1. Création d'une liste de nombres aléatoires triés\n",
    "\n",
    "Votre mission : crééer une liste qui contient 100 nombres entiers, entre 0 et 1000, dans l'ordre croissant.\n",
    "\n",
    "Vos propositions ?\n",
    "    \n",
    "    "
   ]
  },
  {
   "cell_type": "code",
   "execution_count": null,
   "metadata": {},
   "outputs": [],
   "source": []
  },
  {
   "attachments": {
    "nsi_prem_algo_dicho_2.png": {
     "image/png": "[encoded data removed]"
    }
   },
   "cell_type": "markdown",
   "metadata": {},
   "source": [
    "## 2. La recherche par dichotomie\n",
    "\n",
    "Visionner cette vidéo pour bien comprendre la méthode : https://www.youtube.com/watch?v=ULr_8ocz0AU&feature=youtu.be\n",
    "\n",
    "Et une image pour mieux comprendre (on cherche 35)\n",
    "![nsi_prem_algo_dicho_2.png](attachment:nsi_prem_algo_dicho_2.png)\n",
    "\n",
    "Voici le pseudocode de la fonction qui renvoie Vrai si le nombre cherché est dans la liste et faux si le nombre cherché n'y est pas, à vous de le traduire en python :\n",
    "<code>\n",
    "VARIABLE\n",
    "t : tableau d'entiers trié\n",
    "mil : nombre entier\n",
    "fin : nombre entier\n",
    "deb : nombre entier\n",
    "x : nombre entier // x : l'entier recherché\n",
    "tr : booléen\n",
    "\n",
    "DEBUT\n",
    "tr ← FAUX\n",
    "deb ← 0\n",
    "fin ← longueur(t)-1\n",
    "\n",
    "tant que tr == FAUX et que deb ⩽ fin :\n",
    " mil ← partie_entière((deb+fin)/2)\n",
    " si t[mil] == x :\n",
    "  tr = vrai\n",
    " sinon :\n",
    "  si x > t[mil] :\n",
    "   deb ← mil+1\n",
    "  sinon :\n",
    "   fin ← mil-1\n",
    "  fin si\n",
    " fin si\n",
    "fin tant que\n",
    "renvoyer la valeur de tr\n",
    "FIN\n",
    "</code>"
   ]
  },
  {
   "cell_type": "code",
   "execution_count": 1,
   "metadata": {},
   "outputs": [],
   "source": [
    "def rechercheDicho (t,x) :\n",
    "    pass"
   ]
  },
  {
   "cell_type": "markdown",
   "metadata": {},
   "source": [
    "Rajouter une variable pour compter le nombre de \"tours de boucle\" effectués, et l'afficher avant de quitter la fonction.\n",
    "Tester avec des listes de différentes tailles\n"
   ]
  },
  {
   "cell_type": "markdown",
   "metadata": {},
   "source": [
    "## Complexité\n",
    "\n",
    "Pour étudier la complexité, nous allons nous intéresser à la boucle : au niveau de la boucle, combien doit-on effectuer d'itérations pour un tableau de taille n dans le cas le plus défavorable (l'entier x n'est pas dans le tableau t) ?\n",
    "\n",
    "Sachant qu'à chaque itération de la boucle on divise le tableau en 2, cela revient donc à se demander combien de fois faut-il diviser le tableau en 2 pour obtenir, à la fin, un tableau comportant un seul entier ? Autrement dit, combien de fois faut-il diviser n par 2 pour obtenir 1 ?\n",
    "\n",
    "Mathématiquement cela se traduit par l'équation n / 2<sup>a</sup> = 1\n",
    "\n",
    "avec a le nombre de fois qu'il faut diviser n par 2 pour obtenir 1. Il faut donc trouver a !\n",
    "\n",
    "A ce stade il est nécessaire d'introduire une nouvelle notion mathématique : le \"logarithme base 2\" noté log<sub>2</sub>.   \n",
    "\n",
    "\n",
    "Par définition log<sub>2</sub>(2<sup>x</sup>)=x   \n",
    "\n",
    "Nous avons donc :   \n",
    "\n",
    "n/2<sup>a</sup> = 1\n",
    "=> n=2<sup>a</sup> => log<sub>2</sub>(n)=log<sub>2</sub>(2<sup>a</sup>)=a, nous avons donc a=log<sub>2</sub>(n)\n",
    "\n",
    "Nous pouvons donc dire que la complexité en temps dans le pire des cas de l'algorithme de recherche dichotomique est O(log<sub>2</sub>(n))"
   ]
  },
  {
   "cell_type": "code",
   "execution_count": null,
   "metadata": {},
   "outputs": [],
   "source": []
  }
 ],
 "metadata": {
  "kernelspec": {
   "display_name": "Python 3",
   "language": "python",
   "name": "python3"
  },
  "language_info": {
   "codemirror_mode": {
    "name": "ipython",
    "version": 3
   },
   "file_extension": ".py",
   "mimetype": "text/x-python",
   "name": "python",
   "nbconvert_exporter": "python",
   "pygments_lexer": "ipython3",
   "version": "3.7.1"
  }
 },
 "nbformat": 4,
 "nbformat_minor": 2
}
